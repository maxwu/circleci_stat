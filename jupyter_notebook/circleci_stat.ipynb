{
 "cells": [
  {
   "cell_type": "code",
   "execution_count": 1,
   "metadata": {
    "collapsed": false,
    "scrolled": false
   },
   "outputs": [],
   "source": [
    "import yaml\n",
    "import requests\n",
    "\n",
    "BASE_URL = \"https://circleci.com/api/v1.1/\"\n",
    "\n",
    "def load_cfg():\n",
    "    fcfg = open(\"../config.yaml\")\n",
    "    return yaml.load(fcfg)\n",
    "    \n",
    "cfg = load_cfg()\n",
    "token = cfg['circleci']['api-token']\n",
    "# print token"
   ]
  },
  {
   "cell_type": "code",
   "execution_count": 2,
   "metadata": {
    "collapsed": false
   },
   "outputs": [
    {
     "name": "stdout",
     "output_type": "stream",
     "text": [
      "maxwunj@gmail.com\n"
     ]
    }
   ],
   "source": [
    "import requests\n",
    "from requests.auth import HTTPBasicAuth\n",
    "\n",
    "r = requests.get(BASE_URL + 'me', auth=HTTPBasicAuth(token, ''))\n",
    "rjson = r.json()\n",
    "print rjson['all_emails'][0]"
   ]
  },
  {
   "cell_type": "code",
   "execution_count": 3,
   "metadata": {
    "collapsed": false
   },
   "outputs": [],
   "source": [
    "import json\n",
    "\n",
    "r = requests.get(BASE_URL + 'projects', auth=HTTPBasicAuth(token, ''))\n",
    "# print r.text\n",
    "rjson = r.json()\n",
    "# print json.dumps(rjson[0], indent = 4)\n",
    "reponame = rjson[0]['reponame']\n",
    "vcs_type =  rjson[0]['vcs_type']\n",
    "username = rjson[0]['username']"
   ]
  },
  {
   "cell_type": "code",
   "execution_count": 4,
   "metadata": {
    "collapsed": false
   },
   "outputs": [
    {
     "name": "stdout",
     "output_type": "stream",
     "text": [
      "67\n"
     ]
    }
   ],
   "source": [
    "# GET: /project/:vcs-type/:username/:project\n",
    "r = requests.get(BASE_URL + 'project' + \n",
    "                 '/' + vcs_type + \n",
    "                 '/' + username +\n",
    "                 '/' + reponame\n",
    "                 , auth=HTTPBasicAuth(token, ''))\n",
    "# print r.text\n",
    "build_num = r.json()[0]['build_num']\n",
    "print build_num"
   ]
  },
  {
   "cell_type": "code",
   "execution_count": 12,
   "metadata": {
    "collapsed": false
   },
   "outputs": [
    {
     "name": "stdout",
     "output_type": "stream",
     "text": [
      "https://67-77958022-gh.circle-artifacts.com/0/tmp/circle-junit.isyeuXm/junit/TEST-org.maxwu.jrefresh.selenium.TemperatureConverterTest.xml\n",
      "suite=Scenario: Open Temperature Convertor, case=Given Web browser initialized, pass=True\n",
      "suite=Scenario: Open Temperature Convertor, case=Given Google Entrance Page with:, pass=True\n",
      "suite=Scenario: Open Temperature Convertor, case=When Search \"temperature converter\", pass=True\n",
      "suite=Scenario: Open Temperature Convertor, case=Then The page title is \"temperature converter\", pass=True\n",
      "suite=Scenario: Open Temperature Convertor, case=And There is a \"Temperature\" option selected, pass=True\n",
      "suite=Scenario: Open Temperature Convertor, case=Scenario: Open Temperature Convertor, pass=True\n",
      "suite=Scenario: Calculate temperature degrees, case=Given Temperature background check, pass=True\n",
      "suite=Scenario: Calculate temperature degrees, case=Given \"Fahrenheit\" select is present, pass=True\n",
      "suite=Scenario: Calculate temperature degrees, case=And \"Celsius\" select is present, pass=True\n",
      "suite=Scenario: Calculate temperature degrees, case=When Input data from the table:, pass=True\n",
      "suite=Scenario: Calculate temperature degrees, case=Then Results are correct as on table, pass=True\n",
      "suite=Scenario: Calculate temperature degrees, case=Scenario: Calculate temperature degrees, pass=True\n",
      "suite=| 100 | 212 |, case=Given Temperature background check, pass=True\n",
      "suite=| 100 | 212 |, case=Given Google search page with predefined keywords, pass=True\n",
      "suite=| 100 | 212 |, case=When Enter Celsius degree as \"100\", pass=True\n",
      "suite=| 100 | 212 |, case=Then Check the value against \"212\", pass=True\n",
      "suite=| 100 | 212 |, case=| 100 | 212 |, pass=True\n",
      "suite=| 0 | 32 |, case=Given Temperature background check, pass=True\n",
      "suite=| 0 | 32 |, case=Given Google search page with predefined keywords, pass=True\n",
      "suite=| 0 | 32 |, case=When Enter Celsius degree as \"0\", pass=True\n",
      "suite=| 0 | 32 |, case=Then Check the value against \"32\", pass=True\n",
      "suite=| 0 | 32 |, case=| 0 | 32 |, pass=True\n",
      "suite=| -100 | -148 |, case=Given Temperature background check, pass=True\n",
      "suite=| -100 | -148 |, case=Given Google search page with predefined keywords, pass=True\n",
      "suite=| -100 | -148 |, case=When Enter Celsius degree as \"-100\", pass=True\n",
      "suite=| -100 | -148 |, case=Then Check the value against \"-148\", pass=True\n",
      "suite=| -100 | -148 |, case=| -100 | -148 |, pass=True\n",
      "suite=| 65535 | 117995 |, case=Given Temperature background check, pass=True\n",
      "suite=| 65535 | 117995 |, case=Given Google search page with predefined keywords, pass=True\n",
      "suite=| 65535 | 117995 |, case=When Enter Celsius degree as \"65535\", pass=True\n",
      "suite=| 65535 | 117995 |, case=Then Check the value against \"117995\", pass=True\n",
      "suite=| 65535 | 117995 |, case=| 65535 | 117995 |, pass=True\n",
      "suite=| -65536 | -117932.8 |, case=Given Temperature background check, pass=True\n",
      "suite=| -65536 | -117932.8 |, case=Given Google search page with predefined keywords, pass=True\n",
      "suite=| -65536 | -117932.8 |, case=When Enter Celsius degree as \"-65536\", pass=True\n",
      "suite=| -65536 | -117932.8 |, case=Then Check the value against \"-117932.8\", pass=True\n",
      "suite=| -65536 | -117932.8 |, case=| -65536 | -117932.8 |, pass=True\n",
      "suite=| 1 | 1.60934 |, case=Given Select \"Length\" dimension, pass=True\n",
      "suite=| 1 | 1.60934 |, case=And Select \"Mile\" unit in left, pass=True\n",
      "suite=| 1 | 1.60934 |, case=And Select \"Kilometre\" unit in right, pass=True\n",
      "suite=| 1 | 1.60934 |, case=When Enter \"1\" in left input, pass=True\n",
      "suite=| 1 | 1.60934 |, case=Then Get \"1.60934\" on right input, pass=True\n",
      "suite=| 1 | 1.60934 |, case=| 1 | 1.60934 |, pass=True\n",
      "suite=| 0 | 0 |, case=Given Select \"Length\" dimension, pass=True\n",
      "suite=| 0 | 0 |, case=And Select \"Mile\" unit in left, pass=True\n",
      "suite=| 0 | 0 |, case=And Select \"Kilometre\" unit in right, pass=True\n",
      "suite=| 0 | 0 |, case=When Enter \"0\" in left input, pass=True\n",
      "suite=| 0 | 0 |, case=Then Get \"0\" on right input, pass=True\n",
      "suite=| 0 | 0 |, case=| 0 | 0 |, pass=True\n",
      "https://67-77958022-gh.circle-artifacts.com/0/tmp/circle-junit.isyeuXm/junit/TEST-org.maxwu.jrefresh.selenium.DriverFactoryTest.xml\n",
      "suite=org.maxwu.jrefresh.selenium.DriverFactoryTest, case=quitDriverReEntryTest, pass=True\n",
      "suite=org.maxwu.jrefresh.selenium.DriverFactoryTest, case=quitDriverTest, pass=True\n",
      "suite=org.maxwu.jrefresh.selenium.DriverFactoryTest, case=getDriverTest, pass=True\n",
      "suite=org.maxwu.jrefresh.selenium.DriverFactoryTest, case=navigateWeb, pass=True\n",
      "https://67-77958022-gh.circle-artifacts.com/0/tmp/circle-junit.isyeuXm/junit/TEST-org.maxwu.jrefresh.greenHook.GreenHookTest.xml\n",
      "suite=org.maxwu.jrefresh.greenHook.GreenHookTest, case=verifyGreenHookProxy, pass=True\n",
      "suite=org.maxwu.jrefresh.greenHook.GreenHookTest, case=verifyGreenHookReflect, pass=True\n"
     ]
    }
   ],
   "source": [
    "import xml.etree.cElementTree as ET\n",
    "\n",
    "def get_xunit_from_build_id(build_id = 67):\n",
    "    # GET: /project/:vcs-type/:username/:project/:build_num/artifacts\n",
    "    r = requests.get(BASE_URL + 'project' + \n",
    "                     '/' + vcs_type + \n",
    "                     '/' + username +\n",
    "                     '/' + reponame +\n",
    "                     '/' + str(build_id) + \n",
    "                     '/artifacts'\n",
    "                     , auth=HTTPBasicAuth(token, ''))\n",
    "\n",
    "    # print r.text\n",
    "    for artifact in r.json():\n",
    "        print artifact['url']\n",
    "        res = r = requests.get(artifact['url'], stream=True)\n",
    "        # The fetched XML files are XUnit format test history.\n",
    "        # print res.text\n",
    "        tree = ET.fromstring(res.text)\n",
    "        for elem in tree.iter('testcase'):\n",
    "            suite = elem.get('classname')\n",
    "            case = elem.get('name')\n",
    "            time = elem.get('time')\n",
    "            passed = True\n",
    "            for child in elem:\n",
    "                if 'failure' == child.tag:\n",
    "                    passed = False\n",
    "            print \"suite=%s, case=%s, pass=%s\" %(suite, case, passed)\n",
    "\n",
    "get_xunit_from_build_id(build_num)"
   ]
  },
  {
   "cell_type": "code",
   "execution_count": null,
   "metadata": {
    "collapsed": true
   },
   "outputs": [],
   "source": []
  },
  {
   "cell_type": "code",
   "execution_count": null,
   "metadata": {
    "collapsed": true
   },
   "outputs": [],
   "source": []
  }
 ],
 "metadata": {
  "anaconda-cloud": {},
  "kernelspec": {
   "display_name": "Python 2",
   "language": "python",
   "name": "python2"
  },
  "language_info": {
   "codemirror_mode": {
    "name": "ipython",
    "version": 2
   },
   "file_extension": ".py",
   "mimetype": "text/x-python",
   "name": "python",
   "nbconvert_exporter": "python",
   "pygments_lexer": "ipython2",
   "version": "2.7.12"
  }
 },
 "nbformat": 4,
 "nbformat_minor": 1
}
